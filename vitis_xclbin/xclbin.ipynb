{
 "cells": [
  {
   "cell_type": "code",
   "execution_count": 1,
   "id": "dee0b081-6aa6-4b78-986e-e789fee7dfaf",
   "metadata": {},
   "outputs": [
    {
     "data": {
      "application/javascript": [
       "\n",
       "try {\n",
       "require(['notebook/js/codecell'], function(codecell) {\n",
       "  codecell.CodeCell.options_default.highlight_modes[\n",
       "      'magic_text/x-csrc'] = {'reg':[/^%%microblaze/]};\n",
       "  Jupyter.notebook.events.one('kernel_ready.Kernel', function(){\n",
       "      Jupyter.notebook.get_cells().map(function(cell){\n",
       "          if (cell.cell_type == 'code'){ cell.auto_highlight(); } }) ;\n",
       "  });\n",
       "});\n",
       "} catch (e) {};\n"
      ]
     },
     "metadata": {},
     "output_type": "display_data"
    },
    {
     "data": {
      "application/javascript": [
       "\n",
       "try {\n",
       "require(['notebook/js/codecell'], function(codecell) {\n",
       "  codecell.CodeCell.options_default.highlight_modes[\n",
       "      'magic_text/x-csrc'] = {'reg':[/^%%pybind11/]};\n",
       "  Jupyter.notebook.events.one('kernel_ready.Kernel', function(){\n",
       "      Jupyter.notebook.get_cells().map(function(cell){\n",
       "          if (cell.cell_type == 'code'){ cell.auto_highlight(); } }) ;\n",
       "  });\n",
       "});\n",
       "} catch (e) {};\n"
      ]
     },
     "metadata": {},
     "output_type": "display_data"
    }
   ],
   "source": [
    "import pynq\n",
    "import numpy as np"
   ]
  },
  {
   "cell_type": "code",
   "execution_count": 2,
   "id": "ff11f0a3-68c4-4753-a082-98b4fb0f0b43",
   "metadata": {},
   "outputs": [],
   "source": [
    "# program the device\n",
    "ol = pynq.Overlay(\"vitis_xclbin/vadd.xclbin\")\n"
   ]
  },
  {
   "cell_type": "code",
   "execution_count": 3,
   "id": "b0f01335-5b90-47e3-a468-de29a463b5b1",
   "metadata": {},
   "outputs": [
    {
     "data": {
      "application/json": {
       "krnl_vadd_1": {
        "addr_range": 60,
        "cu_index": 0,
        "cu_name": "krnl_vadd:krnl_vadd_1",
        "device": "<pynq.pl_server.embedded_device.EmbeddedDevice object at 0xaf493e08>",
        "driver": "<class 'pynq.overlay.DefaultIP'>",
        "fullpath": "krnl_vadd_1",
        "gpio": {},
        "hw_control_protocol": "ap_ctrl_chain",
        "index": 0,
        "interrupts": {},
        "mem_id": null,
        "phys_addr": 2147483648,
        "registers": {
         "CTRL": {
          "access": "read-write",
          "address_offset": 0,
          "description": "OpenCL Control Register",
          "fields": {
           "AP_CONTINUE": {
            "access": "read-write",
            "bit_offset": 4,
            "bit_width": 1,
            "description": "Invoke next iteration of kernel"
           },
           "AP_DONE": {
            "access": "read-only",
            "bit_offset": 1,
            "bit_width": 1,
            "description": "Accelerator has finished - cleared on read"
           },
           "AP_IDLE": {
            "access": "read-only",
            "bit_offset": 2,
            "bit_width": 1,
            "description": "Accelerator is idle"
           },
           "AP_READY": {
            "access": "read-only",
            "bit_offset": 3,
            "bit_width": 1,
            "description": "Accelerator is ready to start next computation"
           },
           "AP_START": {
            "access": "read-write",
            "bit_offset": 0,
            "bit_width": 1,
            "description": "Start the accelerator"
           },
           "AUTO_RESTART": {
            "access": "read-write",
            "bit_offset": 7,
            "bit_width": 1,
            "description": "Restart the accelerator automatically when finished"
           }
          },
          "id": null,
          "size": 4,
          "type": "unsigned int"
         },
         "in1": {
          "access": "read-write;",
          "address_offset": 16,
          "description": "OpenCL Argument Register",
          "host_size": 8,
          "id": 0,
          "memory": "DDR",
          "size": 64,
          "type": "void*"
         },
         "in2": {
          "access": "read-write;",
          "address_offset": 28,
          "description": "OpenCL Argument Register",
          "host_size": 8,
          "id": 1,
          "memory": "DDR",
          "size": 64,
          "type": "void*"
         },
         "out_r": {
          "access": "read-write;",
          "address_offset": 40,
          "description": "OpenCL Argument Register",
          "host_size": 8,
          "id": 2,
          "memory": "DDR",
          "size": 64,
          "type": "void*"
         },
         "size": {
          "access": "read-write;",
          "address_offset": 52,
          "description": "OpenCL Argument Register",
          "host_size": 4,
          "id": 3,
          "size": 32,
          "type": "unsigned int"
         }
        },
        "state": null,
        "streams": {},
        "type": "xilinx.com:hls:krnl_vadd:1.0",
        "xclbin_uuid": "355a4a6b1079b42fc7be46f899a854df"
       }
      },
      "text/plain": [
       "{'krnl_vadd_1': {'phys_addr': 2147483648,\n",
       "  'addr_range': 60,\n",
       "  'type': 'xilinx.com:hls:krnl_vadd:1.0',\n",
       "  'hw_control_protocol': 'ap_ctrl_chain',\n",
       "  'fullpath': 'krnl_vadd_1',\n",
       "  'registers': {'CTRL': {'address_offset': 0,\n",
       "    'access': 'read-write',\n",
       "    'size': 4,\n",
       "    'description': 'OpenCL Control Register',\n",
       "    'type': 'unsigned int',\n",
       "    'id': None,\n",
       "    'fields': {'AP_START': {'access': 'read-write',\n",
       "      'bit_offset': 0,\n",
       "      'bit_width': 1,\n",
       "      'description': 'Start the accelerator'},\n",
       "     'AP_DONE': {'access': 'read-only',\n",
       "      'bit_offset': 1,\n",
       "      'bit_width': 1,\n",
       "      'description': 'Accelerator has finished - cleared on read'},\n",
       "     'AP_IDLE': {'access': 'read-only',\n",
       "      'bit_offset': 2,\n",
       "      'bit_width': 1,\n",
       "      'description': 'Accelerator is idle'},\n",
       "     'AP_READY': {'access': 'read-only',\n",
       "      'bit_offset': 3,\n",
       "      'bit_width': 1,\n",
       "      'description': 'Accelerator is ready to start next computation'},\n",
       "     'AUTO_RESTART': {'access': 'read-write',\n",
       "      'bit_offset': 7,\n",
       "      'bit_width': 1,\n",
       "      'description': 'Restart the accelerator automatically when finished'},\n",
       "     'AP_CONTINUE': {'access': 'read-write',\n",
       "      'bit_offset': 4,\n",
       "      'bit_width': 1,\n",
       "      'description': 'Invoke next iteration of kernel'}}},\n",
       "   'in1': {'address_offset': 16,\n",
       "    'access': 'read-write;',\n",
       "    'size': 64,\n",
       "    'host_size': 8,\n",
       "    'description': 'OpenCL Argument Register',\n",
       "    'type': 'void*',\n",
       "    'id': 0,\n",
       "    'memory': 'DDR'},\n",
       "   'in2': {'address_offset': 28,\n",
       "    'access': 'read-write;',\n",
       "    'size': 64,\n",
       "    'host_size': 8,\n",
       "    'description': 'OpenCL Argument Register',\n",
       "    'type': 'void*',\n",
       "    'id': 1,\n",
       "    'memory': 'DDR'},\n",
       "   'out_r': {'address_offset': 40,\n",
       "    'access': 'read-write;',\n",
       "    'size': 64,\n",
       "    'host_size': 8,\n",
       "    'description': 'OpenCL Argument Register',\n",
       "    'type': 'void*',\n",
       "    'id': 2,\n",
       "    'memory': 'DDR'},\n",
       "   'size': {'address_offset': 52,\n",
       "    'access': 'read-write;',\n",
       "    'size': 32,\n",
       "    'host_size': 4,\n",
       "    'description': 'OpenCL Argument Register',\n",
       "    'type': 'unsigned int',\n",
       "    'id': 3}},\n",
       "  'streams': {},\n",
       "  'mem_id': None,\n",
       "  'state': None,\n",
       "  'interrupts': {},\n",
       "  'gpio': {},\n",
       "  'xclbin_uuid': '355a4a6b1079b42fc7be46f899a854df',\n",
       "  'cu_name': 'krnl_vadd:krnl_vadd_1',\n",
       "  'cu_index': 0,\n",
       "  'index': 0,\n",
       "  'device': <pynq.pl_server.embedded_device.EmbeddedDevice at 0xaf493e08>,\n",
       "  'driver': pynq.overlay.DefaultIP}}"
      ]
     },
     "execution_count": 3,
     "metadata": {
      "application/json": {
       "expanded": false,
       "root": "ip_dict"
      }
     },
     "output_type": "execute_result"
    }
   ],
   "source": [
    "ol.ip_dict"
   ]
  },
  {
   "cell_type": "code",
   "execution_count": 4,
   "id": "a55b7872-aa1c-406c-b06b-e0ee359689f4",
   "metadata": {},
   "outputs": [],
   "source": [
    "vadd = ol.krnl_vadd_1"
   ]
  },
  {
   "cell_type": "code",
   "execution_count": 11,
   "id": "c7743fe9-a05f-478e-9c81-5f461d97ab07",
   "metadata": {},
   "outputs": [
    {
     "data": {
      "text/plain": [
       "\u001b[0;31mType:\u001b[0m        DefaultIP\n",
       "\u001b[0;31mString form:\u001b[0m <pynq.overlay.DefaultIP object at 0xaf40f598>\n",
       "\u001b[0;31mFile:\u001b[0m        /usr/local/share/pynq-venv/lib/python3.8/site-packages/pynq/overlay.py\n",
       "\u001b[0;31mDocstring:\u001b[0m  \n",
       "Driver for an IP without a more specific driver\n",
       "\n",
       "This driver wraps an MMIO device and provides a base class\n",
       "for more specific drivers written later. It also provides\n",
       "access to GPIO outputs and interrupts inputs via attributes. More specific\n",
       "drivers should inherit from `DefaultIP` and include a\n",
       "`bindto` entry containing all of the IP that the driver\n",
       "should bind to. Subclasses meeting these requirements will\n",
       "automatically be registered.\n",
       "\n",
       "Attributes\n",
       "----------\n",
       "mmio : pynq.MMIO\n",
       "    Underlying MMIO driver for the device\n",
       "_interrupts : dict\n",
       "    Subset of the PL.interrupt_pins related to this IP\n",
       "_gpio : dict\n",
       "    Subset of the PL.gpio_dict related to this IP\n"
      ]
     },
     "metadata": {},
     "output_type": "display_data"
    }
   ],
   "source": [
    "vadd?"
   ]
  },
  {
   "cell_type": "code",
   "execution_count": 5,
   "id": "a8805c34-44f6-401a-90e2-27bad2bd0215",
   "metadata": {},
   "outputs": [],
   "source": [
    "# allocate buffers\n",
    "size = 1024*1024\n",
    "in1_vadd = pynq.allocate((1024, 1024), np.uint32)\n",
    "in2_vadd = pynq.allocate((1024, 1024), np.uint32)\n",
    "out = pynq.allocate((1024, 1024), np.uint32)\n",
    "\n"
   ]
  },
  {
   "cell_type": "code",
   "execution_count": 6,
   "id": "129be641-858a-4b6d-b1e9-c1cac2330b5e",
   "metadata": {},
   "outputs": [],
   "source": [
    "# initialize input\n",
    "in1_vadd[:] = np.random.randint(low=0, high=100, size=(1024, 1024), dtype=np.uint32)\n",
    "in2_vadd[:] = 200\n",
    "\n"
   ]
  },
  {
   "cell_type": "code",
   "execution_count": 7,
   "id": "d0ecf114-6b01-44fb-a9b9-fc3b15901254",
   "metadata": {},
   "outputs": [
    {
     "data": {
      "text/plain": [
       "PynqBuffer([[44, 56, 36, ..., 39, 56, 75],\n",
       "            [30, 89, 23, ..., 14, 40, 94],\n",
       "            [ 3, 93, 96, ..., 77, 34, 67],\n",
       "            ...,\n",
       "            [29, 50, 86, ..., 74,  6, 70],\n",
       "            [62, 47, 64, ..., 68, 62, 34],\n",
       "            [98, 87, 14, ..., 80, 27, 17]], dtype=uint32)"
      ]
     },
     "execution_count": 7,
     "metadata": {},
     "output_type": "execute_result"
    }
   ],
   "source": [
    "# send data to the device\n",
    "in1_vadd.sync_to_device()\n",
    "in2_vadd.sync_to_device()\n",
    "in1_vadd"
   ]
  },
  {
   "cell_type": "code",
   "execution_count": 8,
   "id": "4bc78a8d-55de-48c9-a3f8-0a4a38a9956a",
   "metadata": {},
   "outputs": [
    {
     "name": "stdout",
     "output_type": "stream",
     "text": [
      "FAILURE!\n"
     ]
    }
   ],
   "source": [
    "\n",
    "# call kernel\n",
    "# vadd.call(in1_vadd, in2_vadd, out, size)\n",
    "\n",
    "# get data from the device\n",
    "out.sync_from_device()\n",
    "\n",
    "# check results\n",
    "msg = \"SUCCESS!\" if np.array_equal(out, in1_vadd + in2_vadd) else \"FAILURE!\"\n",
    "print(msg)\n",
    "\n"
   ]
  },
  {
   "cell_type": "code",
   "execution_count": 9,
   "id": "c8b43351-03c9-474f-8231-5dda8f52fbed",
   "metadata": {},
   "outputs": [
    {
     "data": {
      "text/plain": [
       "PynqBuffer([[0, 0, 0, ..., 0, 0, 0],\n",
       "            [0, 0, 0, ..., 0, 0, 0],\n",
       "            [0, 0, 0, ..., 0, 0, 0],\n",
       "            ...,\n",
       "            [0, 0, 0, ..., 0, 0, 0],\n",
       "            [0, 0, 0, ..., 0, 0, 0],\n",
       "            [0, 0, 0, ..., 0, 0, 0]], dtype=uint32)"
      ]
     },
     "execution_count": 9,
     "metadata": {},
     "output_type": "execute_result"
    }
   ],
   "source": [
    "out"
   ]
  },
  {
   "cell_type": "code",
   "execution_count": 10,
   "id": "ea4faa73-4cc6-444b-97a7-b90ac027f3a9",
   "metadata": {},
   "outputs": [],
   "source": [
    "# clean up\n",
    "# del in1_vadd\n",
    "# del in2_vadd\n",
    "# del out\n",
    "# ol.free()"
   ]
  }
 ],
 "metadata": {
  "kernelspec": {
   "display_name": "Python 3",
   "language": "python",
   "name": "python3"
  },
  "language_info": {
   "codemirror_mode": {
    "name": "ipython",
    "version": 3
   },
   "file_extension": ".py",
   "mimetype": "text/x-python",
   "name": "python",
   "nbconvert_exporter": "python",
   "pygments_lexer": "ipython3",
   "version": "3.8.2"
  }
 },
 "nbformat": 4,
 "nbformat_minor": 5
}
