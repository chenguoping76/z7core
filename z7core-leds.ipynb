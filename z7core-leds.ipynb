{
 "cells": [
  {
   "cell_type": "code",
   "execution_count": 1,
   "id": "2ba46424-0e72-4df6-89eb-8c4e4a303982",
   "metadata": {},
   "outputs": [],
   "source": [
    "from pynq import Overlay"
   ]
  },
  {
   "cell_type": "code",
   "execution_count": 8,
   "id": "05153650-4537-49de-8481-14eae7057dcc",
   "metadata": {},
   "outputs": [],
   "source": [
    "ol = Overlay('axi-leds/axi-leds.bit')"
   ]
  },
  {
   "cell_type": "code",
   "execution_count": 24,
   "id": "618851a5-dd72-4919-a0ad-9cb499e1d692",
   "metadata": {},
   "outputs": [],
   "source": [
    "# ol.ip_dict"
   ]
  },
  {
   "cell_type": "code",
   "execution_count": 9,
   "id": "c97fc26e-0f8c-4a14-8fe7-5c347b0c13b1",
   "metadata": {
    "tags": []
   },
   "outputs": [],
   "source": [
    "from pynq.lib import AxiGPIO"
   ]
  },
  {
   "cell_type": "code",
   "execution_count": 18,
   "id": "b88985a6-5566-4679-8606-a51fc679d29e",
   "metadata": {},
   "outputs": [],
   "source": [
    "leds_ip = ol.ip_dict['axi_gpio_0']"
   ]
  },
  {
   "cell_type": "code",
   "execution_count": 19,
   "id": "d27dec4f-eeaf-41ed-802a-b25568ed344b",
   "metadata": {},
   "outputs": [],
   "source": [
    "leds = AxiGPIO(leds_ip).channel1"
   ]
  },
  {
   "cell_type": "code",
   "execution_count": 20,
   "id": "023191d1-ce3d-4621-9693-ddeca42b4ffd",
   "metadata": {},
   "outputs": [],
   "source": [
    "leds[1].on()"
   ]
  },
  {
   "cell_type": "code",
   "execution_count": 21,
   "id": "30b03e4b-199e-4664-890d-3fd4235af728",
   "metadata": {},
   "outputs": [],
   "source": [
    "leds[1].off()"
   ]
  },
  {
   "cell_type": "code",
   "execution_count": 22,
   "id": "e7dc48f4-45eb-4459-b81d-562997ef36a4",
   "metadata": {},
   "outputs": [],
   "source": [
    "leds[0].on()"
   ]
  },
  {
   "cell_type": "code",
   "execution_count": 23,
   "id": "64e6ac5d-219c-451d-a4c7-e387130e094a",
   "metadata": {},
   "outputs": [],
   "source": [
    "leds[0].off()"
   ]
  }
 ],
 "metadata": {
  "kernelspec": {
   "display_name": "Python 3 (ipykernel)",
   "language": "python",
   "name": "python3"
  },
  "language_info": {
   "codemirror_mode": {
    "name": "ipython",
    "version": 3
   },
   "file_extension": ".py",
   "mimetype": "text/x-python",
   "name": "python",
   "nbconvert_exporter": "python",
   "pygments_lexer": "ipython3",
   "version": "3.10.4"
  }
 },
 "nbformat": 4,
 "nbformat_minor": 5
}
